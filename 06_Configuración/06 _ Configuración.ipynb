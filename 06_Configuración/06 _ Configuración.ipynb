{
 "cells": [
  {
   "cell_type": "markdown",
   "id": "1700b12e",
   "metadata": {},
   "source": [
    "# Orquestación de contenedores con Kubernetes – Parte II\n",
    "**En el capítulo anterior, cubrimos Kubernetes y por qué lo necesitamos, y luego discutimos cómo arrancar un clúster de Kubernetes usando minikube y KinD.** \n",
    "\n",
    "- Luego analizamos el recurso Pod y discutimos cómo crear y administrar Pods, cómo solucionarlos y cómo garantizar la confiabilidad de su aplicación mediante sondas, junto con patrones de diseño de contenedores múltiples para apreciar por qué Kubernetes usa Pods en primer lugar en lugar de contenedores. \n",
    "- También analizamos Secrets y ConfigMaps.\n",
    "\n",
    "Ahora, profundizaremos en los aspectos avanzados de Kubernetes y las mejores prácticas de la línea de comandos de Kubernetes.\n",
    "\n",
    "- Despliegues de Kubernetes\n",
    "- Servicios e ingresos de Kubernetes\n",
    "- Escalado automático de pods horizontales\n",
    "- Gestión de aplicaciones con estado\n",
    "- Mejores prácticas, consejos y trucos de la línea de comandos de Kubernetes\n",
    "\n",
    "## Requerimientos técnicos\n",
    "\n",
    "**Activaremos un clúster de Kubernetes basado en la nube, Google Kubernetes Engine (GKE), para los ejercicios.** \n",
    "\n",
    "Esto se debe a que no podrán activar balanceadores de carga y volúmenes persistentes dentro de su sistema local y, por lo tanto, no podemos usar KinD y minikube en este capítulo. \n",
    "\n",
    "Actualmente, Google Cloud Platform ofrece una prueba gratuita de $ 300 durante 90 días, por lo que pueden continuar y registrarse para obtener una en https://console.cloud.google.com/ .\n",
    "\n",
    "## Puesta en marcha de Google Kubernetes Engine\n",
    "Una vez que se haya registrado e iniciado sesión en su consola, puede abrir la CLI de Google Cloud Shell para ejecutar los comandos.\n",
    "\n",
    "**01 | Necesitas habilitar la API de Kubernetes Engine primero.**\n"
   ]
  },
  {
   "cell_type": "code",
   "execution_count": null,
   "id": "5963f525",
   "metadata": {},
   "outputs": [],
   "source": [
    "\n",
    "$ gcloud services enable container.googleapis.com\n"
   ]
  },
  {
   "cell_type": "markdown",
   "id": "8f093458",
   "metadata": {},
   "source": [
    "**02 | Para crear un clúster de GKE de tres nodos.**\n",
    "\n"
   ]
  },
  {
   "cell_type": "code",
   "execution_count": null,
   "id": "fbf9680b",
   "metadata": {},
   "outputs": [],
   "source": [
    "\n",
    "$ gcloud container clusters create cluster-1 --zone \\\n",
    "us-central1-a\n",
    "\n",
    "Creating cluster cluster-1 in us-central1-a... Cluster is being health-checked (master is healthy)...done.\n",
    "Created [https://container.googleapis.com/v1/projects/<project-id>/zones/us-central1-a/clusters/cluster-1].\n",
    "To inspect the contents of your cluster, go to: https://console.cloud.google.com/kubernetes/workload_/gcloud/us-central1-a/cluster-1?project=<project-id>\n",
    "kubeconfig entry generated for cluster-1.\n",
    "NAME       LOCATION       MASTER_VERSION    MASTER_IP       MACHINE_TYPE   NODE_VERSION      NUM_NODES  STATUS\n",
    "cluster-1  us-central1-a  1.16.15-gke.4901  35.225.159.183  n1-standard-1  1.16.15-gke.4901  3          RUNNING\n",
    "\n"
   ]
  },
  {
   "cell_type": "markdown",
   "id": "83e49463",
   "metadata": {},
   "source": [
    "¡Y eso es! El clúster está en funcionamiento.\n",
    "\n",
    "También deberá clonar el siguiente repositorio de GitHub para algunos de los ejercicios: https://github.com/Icogerard/devops.\n",
    "\n",
    "\n",
    "\n"
   ]
  },
  {
   "cell_type": "markdown",
   "id": "a9c2cac8",
   "metadata": {},
   "source": [
    "**Ahora, comencemos con las implementaciones en la siguiente sección.**\n",
    "\n",
    "\n"
   ]
  },
  {
   "cell_type": "markdown",
   "id": "9f82192f",
   "metadata": {},
   "source": [
    "## Despliegues de Kubernetes\n",
    "**las implementaciones de aplicación de contenedor dentro de Kubernetes se realizan a través de recursos Deployment.** \n",
    "\n",
    "Los recursos **Deployment** emplean recursos de **ReplicaSet** detrás de escena, por lo que sería bueno ver los recursos **ReplicaSet** primero antes de pasar a comprender los recursos **Deployment**.\n",
    "\n",
    "### Recurso de conjunto de réplicas\n",
    "Los recursos **ReplicaSet** son recursos de Kubernetes que lo ayudan a ejecutar múltiples réplicas de un **Pod** un tiempo dado y proporcionan escalabilidad horizontal para las cargas de trabajo de sus contenedores, y forma el componente básico de un conjunto de escalado horizontal para sus contenedores, que es un grupo de contenedores similares unidos para funcionar como una unidad.\n",
    "\n",
    "- Los recursos **ReplicaSet** definen el número de réplicas de un **Pod** para ejecutar en un momento dado. \n",
    "- Luego, el controlador de Kubernetes intenta mantener las réplicas y recrea un **Pod** si falla.\n",
    "\n",
    "Nunca debe usar recursos **ReplicaSet** por sí solo, sino que debe actuar como un backend para un recurso **Deployment**.\n",
    "\n",
    "**Sin embargo, en aras de la comprensión, veamos un ejemplo.**"
   ]
  },
  {
   "cell_type": "code",
   "execution_count": null,
   "id": "552d935c",
   "metadata": {},
   "outputs": [],
   "source": [
    "\n",
    "$ cd ~/05\\ \\|\\ Kubernetes/kubernetes/\n"
   ]
  },
  {
   "cell_type": "markdown",
   "id": "34cc68ae",
   "metadata": {},
   "source": [
    "\n",
    "**01 | El manifiesto nginx-replica-set.yaml del recurso ReplicaSet tiene el siguiente aspecto.**\n",
    "\n"
   ]
  },
  {
   "cell_type": "code",
   "execution_count": null,
   "id": "e37a33a4",
   "metadata": {},
   "outputs": [],
   "source": [
    "\n",
    "apiVersion: apps/v1\n",
    "kind: ReplicaSet\n",
    "metadata:\n",
    "  name: nginx\n",
    "  labels:\n",
    "    app: nginx\n",
    "spec:\n",
    "  replicas: 3\n",
    "  selector:\n",
    "    matchLabels:\n",
    "      app: nginx\n",
    "  template:\n",
    "    metadata:\n",
    "      labels:\n",
    "        app: nginx\n",
    "    spec:\n",
    "      containers:\n",
    "      - name: nginx\n",
    "        image: nginx\n",
    "            "
   ]
  },
  {
   "cell_type": "markdown",
   "id": "bee6905e",
   "metadata": {},
   "source": [
    "El manifiesto incluye **apiVersion** y **kind**, como cualquier otro recurso. También contiene una sección **metadata** que define los atributos **name** y **labels**, similar a cualquier otro recurso de Kubernetes.\n",
    "\n",
    "**La sección spec contiene los siguientes atributos.**\n",
    "\n",
    "- replicas\n",
    "      Define el número de réplicas de los Pods que coincidieron con el selector para ejecutarse en un momento dado.\n",
    "- selector\n",
    "      Define la base sobre la cual el recurso **ReplicaSet** incluirá **Pods** en él.\n",
    "- selector.matchLabels\n",
    "      Esta sección define las etiquetas y sus valores para seleccionar los Pods. Por lo tanto, el recurso **ReplicaSet** seleccionará cualquiera **Pod** con la etiqueta **app:nginx.**\n",
    "- template\n",
    "      Esta es una sección opcional que puede usar para definir la plantilla **Pod**. El contenido de esta sección es muy similar a la definición de un **Pod**, excepto que carece del atributo de nombre, ya que el recurso **ReplicaSet** generará nombres dinámicos para los **Pods**."
   ]
  },
  {
   "cell_type": "markdown",
   "id": "364d0ec5",
   "metadata": {},
   "source": [
    "**02 | Avancemos y apliquemos este manifiesto para ver qué obtenemos.**\n",
    "\n"
   ]
  },
  {
   "cell_type": "code",
   "execution_count": null,
   "id": "e96b95a2",
   "metadata": {},
   "outputs": [],
   "source": [
    "\n",
    "$ kubectl apply -f nginx-replica-set.yaml\n"
   ]
  },
  {
   "cell_type": "markdown",
   "id": "696d70b9",
   "metadata": {},
   "source": [
    "\n",
    "**03 | Ahora, ejecutemos lo siguiente para enumerar los recursos ReplicaSet.**\n"
   ]
  },
  {
   "cell_type": "code",
   "execution_count": null,
   "id": "ea049ef9",
   "metadata": {},
   "outputs": [],
   "source": [
    "\n",
    "$ kubectl get replicaset\n",
    "\n",
    "NAME    DESIRED   CURRENT   READY   AGE\n",
    "nginx   3         3         0       9s\n"
   ]
  },
  {
   "cell_type": "markdown",
   "id": "f870ab5a",
   "metadata": {},
   "source": [
    "Bien, entonces vemos que hay tres réplicas deseadas. Actualmente, se están ejecutando tres réplicas, pero 0 están listas."
   ]
  },
  {
   "cell_type": "markdown",
   "id": "c3b440f2",
   "metadata": {},
   "source": [
    "**04 | Esperemos un momento y luego volvamos a ejecutar el comando**"
   ]
  },
  {
   "cell_type": "code",
   "execution_count": null,
   "id": "2594ecb5",
   "metadata": {},
   "outputs": [],
   "source": [
    "\n",
    "$ kubectl get replicaset\n",
    "\n",
    "NAME    DESIRED   CURRENT   READY   AGE\n",
    "nginx   3         3         3       1m10s\n"
   ]
  },
  {
   "cell_type": "markdown",
   "id": "2cad617f",
   "metadata": {},
   "source": [
    "Y ahora vemos tres pods listos que están esperando una conexión. \n",
    "\n",
    "**05 | Ahora, enumeremos los Pods y veamos qué ha hecho el recurso ReplicaSet detrás de escena**"
   ]
  },
  {
   "cell_type": "code",
   "execution_count": null,
   "id": "47c8d193",
   "metadata": {},
   "outputs": [],
   "source": [
    "\n",
    "$ kubectl get pod\n",
    "NAME          READY   STATUS    RESTARTS   AGE\n",
    "nginx-6qr9j   1/1     Running   0          1m32s\n",
    "nginx-7hkqv   1/1     Running   0          1m32s\n",
    "nginx-9kvkj   1/1     Running   0          1m32s\n"
   ]
  },
  {
   "cell_type": "markdown",
   "id": "d366b89d",
   "metadata": {},
   "source": [
    "Hay tres **Pods nginx**, y cada uno tiene un nombre que comienza **nginx** pero termina con un hash aleatorio. \n",
    "\n",
    "Bueno, el recurso ReplicaSet agregó un hash aleatorio al final del nombre del recurso **ReplicaSet** para generar Pods únicos. \n",
    "\n",
    "Sí, el nombre de cada recurso de un tipo particular en Kubernetes debe ser único.\n",
    "\n",
    "**06 | Avancemos y usemos el siguiente comando para eliminar uno de los pods del recurso ReplicaSet y veamos qué obtenemos.**\n"
   ]
  },
  {
   "cell_type": "markdown",
   "id": "a8668f6a",
   "metadata": {},
   "source": [
    "\n",
    "$ kubectl delete pod nginx-9kvkj && kubectl get pod\n",
    "pod \"nginx-9kvkj\" deleted\n",
    "\n",
    "NAME          READY   STATUS    RESTARTS   AGE\n",
    "nginx-6qr9j   1/1     Running   0          8m34s\n",
    "nginx-7hkqv   1/1     Running   0          8m34s\n",
    "nginx-9xbdf   1/1     Running   0          5s\n"
   ]
  },
  {
   "cell_type": "markdown",
   "id": "d290eea2",
   "metadata": {},
   "source": [
    "Y vemos que aunque eliminamos el **Pod nginx-9kvkj**, el recurso **ReplicaSet** lo ha reemplazado por un nuevo **Pod nginx-9xbdf**. Así funcionan los recursos **ReplicaSet**.\n",
    "\n",
    "Puede eliminar un recurso **ReplicaSet** como cualquier otro recurso de Kubernetes. \n",
    "- Puede ejecutar el comando kubectl delete replicaset < ReplicaSet name > para un enfoque imperativo \n",
    "- O usar kubectl delete -f < manifest_file > para un enfoque declarativo.\n",
    "\n",
    "**07 | Usemos el enfoque anterior y eliminemos el recurso ReplicaSet.**"
   ]
  },
  {
   "cell_type": "code",
   "execution_count": null,
   "id": "44fa91e7",
   "metadata": {},
   "outputs": [],
   "source": [
    "\n",
    "$ kubectl delete replicaset nginx\n"
   ]
  },
  {
   "cell_type": "code",
   "execution_count": null,
   "id": "2d5f46fd",
   "metadata": {},
   "outputs": [],
   "source": [
    "# Verificamos y los pods se estan finalizando\n",
    "\n",
    "$ kubectl get pod\n",
    "\n",
    "NAME          READY   STATUS        RESTARTS   AGE\n",
    "nginx-j547c   1/1     Terminating   0          3m37s\n",
    "nginx-vd6ff   1/1     Terminating   0          2m3s\n",
    "nginx-w4n9t   1/1     Terminating   0          3m37s\n"
   ]
  },
  {
   "cell_type": "markdown",
   "id": "c60405e2",
   "metadata": {},
   "source": [
    "**08 | Verifiquemos si el ReplicaSetrecurso ha sido eliminado ejecutando.**\n",
    "\n"
   ]
  },
  {
   "cell_type": "markdown",
   "id": "009b3a64",
   "metadata": {},
   "source": [
    "\n",
    "$ kubectl get replicaset\n",
    "No resources found in default namespace.\n"
   ]
  },
  {
   "cell_type": "markdown",
   "id": "6ac3081f",
   "metadata": {},
   "source": [
    "**Y no tenemos nada en default namespace.** \n",
    "- Esto significa que el recurso ReplicaSet se ha ido.\n",
    "\n",
    "Como discutimos, los recursos **ReplicaSet** no deben usarse por sí solos, sino que deben ser el backend de los recursos **Deployment**. \n",
    "\n",
    "**Veamos ahora los recursos Deployment de Kubernetes.**"
   ]
  },
  {
   "attachments": {
    "Figure_5.1_B16963.jpg": {
     "image/jpeg": "[encoded data removed]"
    }
   },
   "cell_type": "markdown",
   "id": "8e15726a",
   "metadata": {},
   "source": [
    "### Recurso de implementación\n",
    "**Los recursos Deployment de Kubernetes ayudan a administrar implementaciones para aplicaciones de contenedores.** \n",
    "\n",
    "- Ellos se utilizan típicamente para gestionar cargas de trabajo sin estado. \n",
    "\n",
    "Todavía podemos usarlos para administrar aplicaciones con estado, pero el enfoque recomendado para aplicaciones con estado es usar recursos **StatefulSet**.\n",
    "\n",
    "Las implementaciones de Kubernetes usan el recursos **ReplicaSet** como backend y la cadena de recursos se parece al siguiente diagrama.\n",
    "\n",
    "Cadena de despliegue![Figure_5.1_B16963.jpg](attachment:Figure_5.1_B16963.jpg)"
   ]
  },
  {
   "cell_type": "markdown",
   "id": "5fcff4d0",
   "metadata": {},
   "source": [
    "**01 | Echemos el ejemplo anterior y vamos a crear un manifiesto de recurso Deployment NGINX – nginx-deployment.yaml.**\n",
    "\n"
   ]
  },
  {
   "cell_type": "code",
   "execution_count": null,
   "id": "16d48746",
   "metadata": {},
   "outputs": [],
   "source": [
    "\n",
    "apiVersion: apps/v1\n",
    "kind: Deployment\n",
    "metadata:\n",
    "  name: nginx\n",
    "  labels:\n",
    "    app: nginx\n",
    "spec:\n",
    "  replicas: 3\n",
    "  selector:\n",
    "    matchLabels:\n",
    "      app: nginx\n",
    "  template:\n",
    "    metadata:\n",
    "      labels:\n",
    "        app: nginx\n",
    "    spec:\n",
    "      containers:\n",
    "      - name: nginx\n",
    "        image: nginx\n",
    "            "
   ]
  },
  {
   "cell_type": "markdown",
   "id": "e1ed3902",
   "metadata": {},
   "source": [
    "El manifiesto es muy similar al recurso **ReplicaSet**, excepto por el atributo **kind**, que es en este caso **Deployment**.\n",
    "\n",
    "**02 | Apliquemos el manifiesto**"
   ]
  },
  {
   "cell_type": "code",
   "execution_count": null,
   "id": "e823001b",
   "metadata": {},
   "outputs": [],
   "source": [
    "\n",
    "$ kubectl apply -f nginx-deployment.yaml\n"
   ]
  },
  {
   "cell_type": "markdown",
   "id": "b43b4039",
   "metadata": {},
   "source": [
    "Entonces, como se ha creado el recurso **Deployment**, veamos la cadena de recursos que creó. \n",
    "\n",
    "**03 | Corramos kubectl get para listar el recurso Deployment**"
   ]
  },
  {
   "cell_type": "code",
   "execution_count": null,
   "id": "719e0488",
   "metadata": {},
   "outputs": [],
   "source": [
    "\n",
    "$ kubectl get deployment\n",
    "\n",
    "NAME    READY   UP-TO-DATE   AVAILABLE   AGE\n",
    "nginx   3/3     3            3           6s\n"
   ]
  },
  {
   "cell_type": "markdown",
   "id": "cb8c4f60",
   "metadata": {},
   "source": [
    "Y que vemos hay un recurso **Deployment** llamado nginx, con 3/3 Pods listos y tres Pods UP-TO-DATE. \n",
    "\n",
    "Como este recurso Deployment puede administrar múltiples versiones, UP-TO-DATE por lo tanto significa si el último Deployment se ha implementado con éxito. También muestra tres Pods disponibles en ese momento.\n",
    "\n",
    "**04 | Como sabemos que los recursos *Deployment* crean recursos *ReplicaSet* en segundo plano, obtengamos los recursos *ReplicaSet*.**\n",
    "\n"
   ]
  },
  {
   "cell_type": "code",
   "execution_count": null,
   "id": "e55f2317",
   "metadata": {},
   "outputs": [],
   "source": [
    "\n",
    "$ kubectl get replicaset\n",
    "\n",
    "NAME               DESIRED   CURRENT   READY   AGE\n",
    "nginx-6799fc88d8   3         3         3       11s\n"
   ]
  },
  {
   "cell_type": "markdown",
   "id": "a8d6cca9",
   "metadata": {},
   "source": [
    "Y vemos que el recurso Deployment ha creado un recurso ReplicaSet, que comienza con nginx y termina con un hash aleatorio. \n",
    "\n",
    "Eso es necesario ya que un recurso **Deployment** puede contener uno o más recursos ReplicaSet.\n",
    "\n",
    "**05 | Los siguientes en la cadena son los Pods, así que obtengamos los recursos Pod.**"
   ]
  },
  {
   "cell_type": "code",
   "execution_count": null,
   "id": "e8aae256",
   "metadata": {},
   "outputs": [],
   "source": [
    "\n",
    "$ kubectl get pod\n",
    "\n",
    "NAME                     READY   STATUS    RESTARTS   AGE\n",
    "nginx-6799fc88d8-d52mj   1/1     Running   0          15s\n",
    "nginx-6799fc88d8-dmpbn   1/1     Running   0          15s\n",
    "nginx-6799fc88d8-msvxw   1/1     Running   0          15s\n"
   ]
  },
  {
   "cell_type": "markdown",
   "id": "da8ea587",
   "metadata": {},
   "source": [
    "**Y, como era de esperar, tenemos tres Pods.** \n",
    "\n",
    "Cada uno comienza con el nombre del recurso **ReplicaSet** y termina con un **hash aleatorio**. Es por eso que ves que hay dos hashes en el nombre del **Pod**.\n",
    "\n",
    "Ahora vamos a suponer que tenemos una nueva versión y deseamos implementar una nueva versión de imagen de contenedor. \n",
    "\n",
    "**06 | Entonces, actualicemos el recurso *Deployment* con una nueva imagen y también registremos el comando en el historial de implementación.**"
   ]
  },
  {
   "cell_type": "code",
   "execution_count": null,
   "id": "314ad38d",
   "metadata": {},
   "outputs": [],
   "source": [
    "\n",
    "$ kubectl set image deployment/nginx \\nginx=nginx:1.16.1 --record\n",
    "deployment.apps/nginx image updated\n"
   ]
  },
  {
   "cell_type": "markdown",
   "id": "47ce4895",
   "metadata": {},
   "source": [
    "**07 | Para verificar el estado de implementación.**\n",
    "\n"
   ]
  },
  {
   "cell_type": "code",
   "execution_count": null,
   "id": "c7065f52",
   "metadata": {},
   "outputs": [],
   "source": [
    "\n",
    "$ kubectl rollout status deployment nginx\n",
    "deployment \"nginx\" successfully rolled out\n"
   ]
  },
  {
   "cell_type": "markdown",
   "id": "bccf476a",
   "metadata": {},
   "source": [
    "**08 | Para verificar el historial de implementación.**\n",
    "\n"
   ]
  },
  {
   "cell_type": "code",
   "execution_count": null,
   "id": "e9320dbf",
   "metadata": {},
   "outputs": [],
   "source": [
    "\n",
    "$ kubectl rollout history deployment nginx\n",
    "deployment.apps/nginx\n",
    "REVISION  CHANGE-CAUSE\n",
    "1         <none>\n",
    "2         kubectl set image deployment/nginx nginx=nginx:1.16.1 --record=true\n",
    "    "
   ]
  },
  {
   "cell_type": "markdown",
   "id": "0ad56108",
   "metadata": {},
   "source": [
    "**Como podemos ver, hay dos revisiones en el historial de implementación.** \n",
    "\n",
    "La revisión 1 fue la implementación inicial, y la revisión 2 se debió al comando **kubectl set image** que ejecutamos, como se desprende de **CHANGE-CAUSE**. \n",
    "\n",
    "**09 | Ahora, supongamos que encuentra un problema después de su implementación y desea revertirlo a la versión anterior.**\n",
    "\n"
   ]
  },
  {
   "cell_type": "code",
   "execution_count": null,
   "id": "196f59c2",
   "metadata": {},
   "outputs": [],
   "source": [
    "\n",
    "$ kubectl rollout undo deployment nginx\n",
    "deployment.apps/nginx rolled back \n"
   ]
  },
  {
   "cell_type": "markdown",
   "id": "5d2375e5",
   "metadata": {},
   "source": [
    "**10 | Volvamos a verificar el estado de la implementación.**\n",
    "\n"
   ]
  },
  {
   "cell_type": "code",
   "execution_count": null,
   "id": "ae624d50",
   "metadata": {},
   "outputs": [],
   "source": [
    "\n",
    "$ kubectl rollout status deployment nginx\n",
    "Waiting for deployment \"nginx\" rollout to finish: 2 out of 3 new replicas have been updated...\n",
    "Waiting for deployment \"nginx\" rollout to finish: 1 old replicas are pending termination...\n",
    "deployment \"nginx\" successfully rolled out\n"
   ]
  },
  {
   "cell_type": "markdown",
   "id": "16493640",
   "metadata": {},
   "source": [
    "**11 | Y finalmente, vaamos a verificar el historial de implementación.**\n",
    "\n"
   ]
  },
  {
   "cell_type": "code",
   "execution_count": null,
   "id": "06e12acf",
   "metadata": {},
   "outputs": [],
   "source": [
    "\n",
    "$ kubectl rollout history deployment nginx\n",
    "deployment.apps/nginx\n",
    "REVISION  CHANGE-CAUSE\n",
    "2         kubectl set image deployment/nginx nginx=nginx:1.16.1 --record=true\n",
    "3         <none>\n"
   ]
  },
  {
   "cell_type": "markdown",
   "id": "bff1cdfd",
   "metadata": {},
   "source": [
    "**Y obtenemos la revisión 3 con change-cause < none >.** \n",
    "\n",
    "Esto se debe a que no registramos la reversión usando la bandera --record en este caso como lo hicimos en el último comando.\n",
    "\n",
    "**Tip Pro.**\n",
    "\n",
    "> Registre siempre las actualizaciones de implementación, ya que es más fácil echar un vistazo al historial para ver qué se implementó.\n",
    "\n",
    "**Ahora, veamos algunas estrategias comunes de implementación de Kubernetes para entender cómo usar las implementaciones de manera efectiva.**\n",
    "\n",
    "### Estrategias de implementación de Kubernetes\n",
    "**Actualización de la implementación existente requiere que especifique una nueva imagen de contenedor.** \n",
    "\n",
    "Es por eso que creamos versiones de imágenes de contenedores en primer lugar para que pueda implementar y revertir los cambios de la aplicación según sea necesario. \n",
    "\n",
    "Como ejecutamos todo en contenedores, y los contenedores, por definición, son efímeros, esto permite una gran cantidad de estrategias de implementación diferentes que podemos implementar. \n",
    "\n",
    "**Hay varias estrategias de implementación, y algunas de ellas son las siguientes.**\n",
    "\n",
    "- Recrear\n",
    "      Este es elel más simple de todos. Eliminar el antiguo Pody desplegar el nuevo.\n",
    "- Actualización continua\n",
    "      Rodar lentamenteelimine los Pods de la nueva versión mientras aún ejecuta la versión anterior, y elimine lentamente los Pods antiguos a medida que los nuevos Pods se preparan.\n",
    "- Azul/Verde\n",
    "      Este es unestrategia de implementación derivada donde mantenemos ambas versiones ejecutándose simultáneamente y cambiamos el tráfico a la versión más nueva cuando queremos.\n",
    "- Canarias\n",
    "      Esto es aplicablea implementaciones azul/verde en las que cambiamos un porcentaje del tráfico a la versión más nueva de la aplicación antes de implementar completamente el lanzamiento.\n",
    "- Pruebas A /B\n",
    "      Las pruebas A/B son más una técnica para aplicar a las implementaciones Blue/Green. Esto escuando quieras implementar el más nuevoversión a un subconjunto de usuarios dispuestos y estudie los patrones de uso antes de implementar la versión más nueva en general. Con Kubernetes no obtiene pruebas A/B listas para usar, sino que debe confiar en las tecnologías de malla de servicio que se conectan bien con Kubernetes, como Istio , Linkerd y Traefik.\n",
    "\n",
    "\n",
    "Kubernetes proporciona dos estrategias de implementación listas para usar: Recreatey RollingUpdate.\n",
    "\n"
   ]
  },
  {
   "attachments": {
    "Figure_5.2_B16963_new.jpg": {
     "image/jpeg": "[encoded data removed]"
    }
   },
   "cell_type": "markdown",
   "id": "6e28c646",
   "metadata": {},
   "source": [
    "### Recrear\n",
    "**La estrategia Recrear es la estrategia de implementación más directa.** \n",
    "\n",
    "Cuando actualiza la implementación con la estrategia Recreate, Kubernetes inmediatamente desactiva el recurso ReplicaSet antiguo y crea uno nuevo con la cantidad requerida de réplicas, de acuerdo con las líneas del siguiente diagrama.\n",
    "\n",
    "![Figure_5.2_B16963_new.jpg](attachment:Figure_5.2_B16963_new.jpg)"
   ]
  },
  {
   "cell_type": "markdown",
   "id": "f1196113",
   "metadata": {},
   "source": [
    "Kubernetes no elimina el recurso antiguo **ReplicaSet**, sino que simplemente lo establece replicas en 0. \n",
    "- Eso es necesario si necesitamos volver rápidamente a la nueva versión. \n",
    "\n",
    "Este enfoque da como resultado tiempo de inactividad y, por lo tanto, no es algo que desee usar cada vez a menos que tenga una restricción. \n",
    "- Por lo tanto, esta estrategia no es la estrategia de implementación predeterminada en Kubernetes.\n",
    "\n",
    "\n",
    "> **Tip Pro.**<br>\n",
    "Pueden usar la estrategia Recrear si su aplicación no admite varias réplicas, si no admite más de una cierta cantidad de réplicas, como aplicaciones que necesitan mantener un quórum, o si no admite varias versiones a la vez.\n",
    "\n",
    "**01 | Actualicemos nginx-deployment con la estrategia Recreate. | Veamos el archivo nginx-recreate.yaml que contiene la actualización.**"
   ]
  },
  {
   "cell_type": "code",
   "execution_count": null,
   "id": "a40672cc",
   "metadata": {},
   "outputs": [],
   "source": [
    "\n",
    "apiVersion: apps/v1\n",
    "kind: Deployment\n",
    "metadata:\n",
    "  name: nginx\n",
    "  labels:\n",
    "    app: nginx\n",
    "spec:\n",
    "  replicas: 3\n",
    "  selector:\n",
    "    matchLabels:\n",
    "      app: nginx\n",
    "  strategy:\n",
    "    type: Recreate\n",
    "  template:\n",
    "    metadata:\n",
    "      labels:\n",
    "        app: nginx\n",
    "    spec:\n",
    "      containers:\n",
    "      - name: nginx\n",
    "        image: nginx\n",
    "            "
   ]
  },
  {
   "cell_type": "markdown",
   "id": "cb1a1c14",
   "metadata": {},
   "source": [
    "El archivo YAML ahora contiene una sección strategy con type: Recreate.\n",
    "\n",
    "**02 | Ahora, apliquemos el archivo nginx-recreate.yaml y observemos los recursos ReplicaSet.**\n"
   ]
  },
  {
   "cell_type": "markdown",
   "id": "4f5815ca",
   "metadata": {},
   "source": [
    "\n",
    "$ kubectl apply -f nginx-recreate.yaml\n",
    "$ kubectl get replicaset -w\n",
    "deployment.apps/nginx configured\n",
    "\n",
    "NAME               DESIRED   CURRENT   READY   AGE\n",
    "nginx-6799fc88d8   0         0         0       0s\n",
    "nginx-6889dfccd5   0         3         3       7m42s\n",
    "nginx-6889dfccd5   0         0         0       7m42s\n",
    "nginx-6799fc88d8   3         0         0       1s\n",
    "nginx-6799fc88d8   3         3         0       2s\n",
    "nginx-6799fc88d8   3         3         3       6s\n"
   ]
  },
  {
   "cell_type": "markdown",
   "id": "c1b17c7b",
   "metadata": {},
   "source": [
    "Como vemos, el recurso de implementación crea un nuevo recurso ReplicaSet: nginx-6799fc88d8, con el 0 deseado en réplicas.\n",
    "\n",
    "Luego establece a 0 las réplicas deseadas en el recurso anterior ReplicaSet y espera a que el recurso ReplicaSet anterior se desaloje por completo. \n",
    "- Entonces  comienza a implementar el nuevo recurso ReplicaSet en las imágenes deseadas inmediatamente."
   ]
  },
  {
   "attachments": {
    "Figure_5.4_B16963.jpg": {
     "image/jpeg": "[encoded data removed]"
    }
   },
   "cell_type": "markdown",
   "id": "5464f5fa",
   "metadata": {},
   "source": [
    "## Servicios e ingresos de Kubernetes\n",
    "**El recurso Servicio ayuda a exponer las cargas de trabajo de Kubernetes al mundo interno o externo.** \n",
    "\n",
    "Como sabemos, los Pods son recursos efímeros, pueden ir y venir. A cada Pod se le asigna undirección IP y nombre de host únicos, pero una vez que el Pod desaparece, la dirección IP del Pod y el nombre de host cambian. \n",
    "\n",
    "Considere un escenario donde uno de tus Pods quiere interactuar con otro. Sin embargo, debido a la naturaleza transitoria, no puede configurar un punto final adecuado. Si usa la dirección IP o el nombre de host como punto final de un correo electrónico Pod y el Pod se destruye, ya no podrá conectarse a él. Por lo tanto, exponer un Pod por sí solo no es una gran idea.\n",
    "\n",
    "**Kubernetes proporciona el recurso Service para proporcionar una dirección IP estática a un grupo de pods.** \n",
    "\n",
    "Además de exponer los pods en una sola dirección IP estática, también proporciona equilibrio de carga de tráfico entre pods en una configuración de turno rotativo. \n",
    "- Ayuda a distribuir el tráfico por igual entre los pods y, por lo tanto, es el método predeterminado para exponer sus cargas de trabajo.\n",
    "\n",
    "Al recurso Service también se le asigna un nombre de dominio completamente calificado (FQDN) estático (según el nombre del servicio) y, por lo tanto, para que sus puntos finales sean a prueba de fallas, puden usar el Service FQDN del recurso en lugar de la dirección IP dentro de su clúster.\n",
    "\n",
    "Ahora, volviendo a ver los recursos de Service, hay múltiples tipos de recursos Service: **ClusterIP , NodePort y LoadBalancer,** cada uno con sus respectivos casos de uso.\n",
    "\n",
    "Servicios de Kubernetes![Figure_5.4_B16963.jpg](attachment:Figure_5.4_B16963.jpg)"
   ]
  },
  {
   "cell_type": "markdown",
   "id": "2c0b07c0",
   "metadata": {},
   "source": [
    "### Servicios IP de clúster\n",
    "ClusterIP Servicelos recursos exponen pods dentro del clúster de Kubernetes y son los predeterminados si no especifica un tipo. No es posiblepara acceder a los ClusterIP Servicerecursosfuera del clúster y, por lo tanto, nunca se usa para exponer sus Pods al mundo exterior. ClusterIP Servicelos recursos generalmente se usan para exponer aplicaciones de back-end, como almacenes de datos y bases de datos, especialmente la capa comercial y la capa de datos en una arquitectura de tres capas.\n",
    "\n",
    "\n",
    "> **Tip Pro.** <br> Al elegir entre los tipos de recursos del servicio, como regla general, siempre comience con el recurso del servicio ClusterIP y cámbielo si lo necesita más adelante. Esto asegurará que la menor cantidad de sus cargas de trabajo estén expuestas externamente.\n",
    "\n",
    "\n",
    "Primero creemos un recurso de implementación de redis usando el método imperativo usando el siguiente comando:\n",
    "\n"
   ]
  },
  {
   "cell_type": "code",
   "execution_count": null,
   "id": "98915d5b",
   "metadata": {},
   "outputs": [],
   "source": [
    "\n",
    "$ kubectl create deployment redis --image=redis\n",
    "deployment.apps/redis created\n"
   ]
  },
  {
   "cell_type": "markdown",
   "id": "14046d0f",
   "metadata": {},
   "source": [
    "Compruebe si la implementación se ha llevado a cabo correctamente con el siguiente comando:"
   ]
  },
  {
   "cell_type": "code",
   "execution_count": null,
   "id": "ee37758e",
   "metadata": {},
   "outputs": [],
   "source": [
    "\n",
    "$ kubectl rollout status deployment redis\n",
    "deployment \"redis\" successfully rolled out\n"
   ]
  },
  {
   "cell_type": "markdown",
   "id": "632f376a",
   "metadata": {},
   "source": [
    "A medida que la implementación se implementa correctamente, intentemos exponer el pod en un recurso del servicio ClusterIP. Para acceder a los recursos de esta sección, haga un cd en lo siguiente:"
   ]
  },
  {
   "cell_type": "code",
   "execution_count": null,
   "id": "148c71c8",
   "metadata": {},
   "outputs": [],
   "source": [
    "$ cd ~/modern-devops/ch5/services/ \n",
    "\n"
   ]
  },
  {
   "cell_type": "code",
   "execution_count": null,
   "id": "2ae8f88b",
   "metadata": {},
   "outputs": [],
   "source": [
    "Veamos primero el manifiesto de recursos del servicio, redis-clusterip.yaml:"
   ]
  },
  {
   "cell_type": "code",
   "execution_count": null,
   "id": "531c8968",
   "metadata": {},
   "outputs": [],
   "source": [
    "\n",
    "apiVersion: v1\n",
    "kind: Service\n",
    "metadata:\n",
    "  labels:\n",
    "    app: redis\n",
    "  name: redis\n",
    "spec:\n",
    "  ports:\n",
    "  - port: 6379\n",
    "    protocol: TCP\n",
    "    targetPort: 6379\n",
    "  selector:\n",
    "    app: redis\n",
    "        "
   ]
  },
  {
   "cell_type": "markdown",
   "id": "441c6ddf",
   "metadata": {},
   "source": [
    "El manifiesto del recurso del servicio comienza con apiVersion y es del mismo tipo que cualquier otro manifiesto. Tiene una sección de metadatos que contiene el nombre y las etiquetas.\n",
    "\n",
    "La sección de especificaciones contiene lo siguiente:\n",
    "\n",
    "- puertos: esta sección incluye una lista de puertos que queremos exponer a través del recurso de servicio: \n",
    "        A. puerto: El puerto que deseamos exponer.\n",
    "        B. protocol: El protocolo del puerto que estamos exponiendo (TCP/UDP).\n",
    "        C. targetPort: el puerto del contenedor de destino donde el puerto expuesto reenviará la conexión. Esto nos permite tener un mapeo de puertos similar a Docker.\n",
    "- Selector: esta sección contiene etiquetas según las cuales se selecciona el grupo de pods."
   ]
  },
  {
   "cell_type": "markdown",
   "id": "bb6d3cc8",
   "metadata": {},
   "source": [
    "\n",
    "Apliquemos el manifiesto de recursos del servicio usando el siguiente comando y veamos qué obtenemos:\n",
    "    "
   ]
  },
  {
   "cell_type": "code",
   "execution_count": null,
   "id": "43896a33",
   "metadata": {},
   "outputs": [],
   "source": [
    "\n",
    "$ kubectl apply -f redis-clusterip.yaml\n"
   ]
  },
  {
   "cell_type": "markdown",
   "id": "88cb80a9",
   "metadata": {},
   "source": [
    "Ejecutemos kubectl get para enumerar el recurso del servicio y obtener la IP del clúster:"
   ]
  },
  {
   "cell_type": "code",
   "execution_count": null,
   "id": "6cfcc8be",
   "metadata": {},
   "outputs": [],
   "source": [
    "\n",
    "$ kubectl get service redis\n",
    "\n",
    "NAME    TYPE        CLUSTER-IP     EXTERNAL-IP   PORT(S)    AGE\n",
    "redis   ClusterIP   10.96.118.99   <none>        6379/TCP   8s\n"
   ]
  },
  {
   "cell_type": "markdown",
   "id": "c9fbb38c",
   "metadata": {},
   "source": [
    "Y vemos un recurso de servicio redis ejecutándose con un ClusterIP. Pero como este Pod no está expuesto externamente, la única forma de acceder a él es a través de un segundo Pod que se ejecuta dentro del clúster.\n",
    "\n",
    "Vamos a crear un pod de busybox en modo interactivo para inspeccionar el recurso del servicio y ejecutar algunas pruebas con el siguiente comando:"
   ]
  },
  {
   "cell_type": "code",
   "execution_count": null,
   "id": "759c828d",
   "metadata": {},
   "outputs": [],
   "source": [
    "\n",
    "$ kubectl run busybox --rm --restart Never -it --image=busybox\n",
    "/ # \n"
   ]
  },
  {
   "cell_type": "markdown",
   "id": "0dc512e1",
   "metadata": {},
   "source": [
    "Y con esto, vemos un aviso. Esto significa que hemos lanzado el contenedor busybox y actualmente estamos dentro de él. Usaremos la aplicación telnet para verificar la conectividad entre Pods.\n",
    "\n",
    "Hagamos telnet con la IP y el puerto del clúster para ver si es accesible con el siguiente comando:"
   ]
  },
  {
   "cell_type": "code",
   "execution_count": null,
   "id": "649a0607",
   "metadata": {},
   "outputs": [],
   "source": [
    "\n",
    "/ # telnet 10.96.118.99 6379\n",
    "Connected to 10.96.118.99\n"
   ]
  },
  {
   "cell_type": "markdown",
   "id": "d11679d1",
   "metadata": {},
   "source": [
    "El par IP/puerto es accesible desde allí. Kubernetes también proporciona un DNS interno para promover el descubrimiento de servicios y conectarse al recurso del servicio. Podemos hacer un nslookup inverso en la IP del clúster para obtener el nombre de dominio completo del recurso del servicio usando el siguiente comando:"
   ]
  },
  {
   "cell_type": "code",
   "execution_count": null,
   "id": "bb4a4d7a",
   "metadata": {},
   "outputs": [],
   "source": [
    "\n",
    "/ # nslookup 10.96.118.99\n",
    "Server:         10.96.0.10\n",
    "Address:        10.96.0.10:53\n",
    "99.118.96.10.in-addr.arpa       name = redis.default.svc.cluster.local\n"
   ]
  },
  {
   "cell_type": "markdown",
   "id": "b5b92b82",
   "metadata": {},
   "source": [
    "Y como vemos, se puede acceder a la dirección IP desde el FQDN: redis.default.svc.cluster.local. Podemos utilizar todo el dominio o partes de él en función de dónde nos ubiquemos. El FQDN está formado por estas partes: <nombre_servicio>.<espacio de nombres>.svc.<dominio-clúster>.local.\n",
    "\n",
    "Kubernetes usa espacios de nombres para segregar recursos. Puede visualizar los espacios de nombres como múltiples clústeres virtuales que existen dentro del mismo clúster físico de Kubernetes. Puede usarlos si tiene muchos usuarios trabajando en varios equipos o proyectos. Hemos estado trabajando en el espacio de nombres predeterminado hasta ahora y continuaremos haciéndolo. Si su pod de origen se encuentra en el mismo espacio de nombres que el recurso del servicio, simplemente puede usar service_name para conectarse a su recurso del servicio, algo como el siguiente ejemplo:"
   ]
  },
  {
   "cell_type": "code",
   "execution_count": null,
   "id": "ac71e4ae",
   "metadata": {},
   "outputs": [],
   "source": [
    "\n",
    "/ # telnet redis 6379\n",
    "Connected to redis\n"
   ]
  },
  {
   "cell_type": "markdown",
   "id": "8083b6ad",
   "metadata": {},
   "source": [
    "Si desea llamar a un recurso de servicio desde un pod situado en un espacio de nombres diferente, puede usar < service_name >.< namespace > en su lugar, algo como el siguiente ejemplo:"
   ]
  },
  {
   "cell_type": "code",
   "execution_count": null,
   "id": "c3bd5b54",
   "metadata": {},
   "outputs": [],
   "source": [
    "\n",
    "/ # telnet redis.default 6379\n",
    "Connected to redis.default\n"
   ]
  },
  {
   "cell_type": "markdown",
   "id": "09d57952",
   "metadata": {},
   "source": [
    "Algunas mallas de servicios, como Istio, permiten la comunicación entre varios clústeres. En esa situación, también puede usar el nombre del clúster para conectarse al recurso del servicio, pero como se trata de un tema avanzado, está fuera del alcance de esta discusión.\n",
    "\n",
    "> **Tip Pro.** <br> Utilice siempre el nombre de dominio más corto posible para los puntos finales, ya que permite una mayor flexibilidad para mover sus recursos de Kubernetes entre sus entornos.\n",
    "\n",
    "Los servicios de ClusterIP funcionan muy bien para exponer recursos de servicio internos, pero ¿qué pasa si queremos exponer nuestro recurso de servicio al mundo externo? Echemos un vistazo al recurso del servicio NodePort para eso."
   ]
  },
  {
   "cell_type": "markdown",
   "id": "98f3b7cd",
   "metadata": {},
   "source": [
    "## Servicios de NodePort\n",
    "Los recursos del servicio NodePort se utilizan para exponer sus pods al mundo exterior. Cuando crea un recurso de servicio NodePort, activa un recurso de servicio ClusterIP y asigna el puerto ClusterIP a un número de puerto alto aleatorio (predeterminado: 30000-32767) en todos los nodos del clúster. También puede especificar un número de NodePort estático si así lo desea. Entonces, con un recurso del Servicio NodePort, puede acceder a sus Pods usando la dirección IP de cualquier nodo dentro de su clúster y el NodePort.\n",
    "\n",
    "> **Tip Pro.** <br> Aunque es posible especificar un número de NodePort estático, debe evitar usarlo. Esto se debe a que podría terminar en conflictos de puertos con otros recursos del Servicio y depender mucho de la configuración y la gestión de cambios. En cambio, mantenga las cosas simples y use puertos dinámicos.\n",
    "\n",
    "Siguiendo el ejemplo de la aplicación Flask, creemos el Pod de la aplicación Flask con el recurso Redis Service que creamos antes, actuando como su backend, y luego expondremos el Pod en NodePort.\n",
    "\n",
    "Use el siguiente comando para crear un Pod de manera imperativa:"
   ]
  },
  {
   "cell_type": "code",
   "execution_count": null,
   "id": "04aba8ee",
   "metadata": {},
   "outputs": [],
   "source": [
    "\n",
    "$ kubectl run flask-app --image=<your_dockerhub_user>\\\n",
    "/python-flask-redis\n"
   ]
  },
  {
   "cell_type": "markdown",
   "id": "c33b9d49",
   "metadata": {},
   "source": [
    "Ahora, como hemos creado el pod de la aplicación de matraz, verifiquemos su estado con el siguiente comando:"
   ]
  },
  {
   "cell_type": "code",
   "execution_count": null,
   "id": "cd170977",
   "metadata": {},
   "outputs": [],
   "source": [
    "\n",
    "$ kubectl get pod flask-app\n",
    "NAME        READY   STATUS    RESTARTS   AGE\n",
    "flask-app   1/1     Running   0          19s\n"
   ]
  },
  {
   "cell_type": "markdown",
   "id": "a16c21a5",
   "metadata": {},
   "source": [
    "El pod de la aplicación de matraz se está ejecutando correctamente y está listo para aceptar solicitudes. Es hora de comprender el manifiesto de recursos para el servicio NodePort, Flash-nodeport.yaml:"
   ]
  },
  {
   "cell_type": "code",
   "execution_count": null,
   "id": "0a99135d",
   "metadata": {},
   "outputs": [],
   "source": [
    "\n",
    "apiVersion: v1\n",
    "kind: Service\n",
    "metadata:\n",
    "  labels:\n",
    "    run: flask-app\n",
    "  name: flask-app\n",
    "spec:\n",
    "  ports:\n",
    "  - port: 5000\n",
    "    protocol: TCP\n",
    "    targetPort: 5000\n",
    "  selector:\n",
    "    run: flask-app\n",
    "  type: NodePort\n",
    "    "
   ]
  },
  {
   "cell_type": "markdown",
   "id": "e2ae0151",
   "metadata": {},
   "source": [
    "El manifiesto es muy similar al manifiesto de ClusterIP, pero también contiene un atributo de tipo que especifica el tipo de recurso del servicio: NodePort en este caso.\n",
    "\n",
    "Apliquemos este manifiesto para ver qué obtenemos usando el siguiente comando:"
   ]
  },
  {
   "cell_type": "code",
   "execution_count": null,
   "id": "f7d63ecb",
   "metadata": {},
   "outputs": [],
   "source": [
    "\n",
    "$ kubectl apply -f flask-nodeport.yaml\n"
   ]
  },
  {
   "cell_type": "markdown",
   "id": "861d7e17",
   "metadata": {},
   "source": [
    "Ahora, enumeremos el recurso de servicio para obtener NodePort usando el siguiente comando:"
   ]
  },
  {
   "cell_type": "code",
   "execution_count": null,
   "id": "04883b33",
   "metadata": {},
   "outputs": [],
   "source": [
    "\n",
    "$ kubectl get service flask-app\n",
    "NAME        TYPE       CLUSTER-IP     EXTERNAL-IP   PORT(S)          AGE\n",
    "flask-app   NodePort   10.3.240.246   <none>        5000:32618/TCP   9s\n",
    "    "
   ]
  },
  {
   "cell_type": "markdown",
   "id": "019bb6c2",
   "metadata": {},
   "source": [
    "Y vemos que el tipo ahora es NodePort, y que el puerto de contenedor 5000 está asignado al puerto de nodo 32618.\n",
    "\n",
    "Ahora, si está dentro del clúster de Kubernetes, puede acceder al recurso del servicio mediante localhost:32618. Pero como usamos Google Cloud Shell, necesitamos acceder a un nodo de Kubernetes para acceder al recurso del Servicio.\n",
    "\n",
    "Enumeremos primero los nodos usando el siguiente comando:"
   ]
  },
  {
   "cell_type": "code",
   "execution_count": null,
   "id": "6f4d9b4a",
   "metadata": {},
   "outputs": [],
   "source": [
    "\n",
    "$ kubectl get nodes\n",
    "\n",
    "NAME                                       STATUS   ROLES    AGE   VERSION\n",
    "gke-cluster-1-default-pool-c30a0b48-1dhh   Ready    <none>   17m   v1.16.15-gke.4901\n",
    "gke-cluster-1-default-pool-c30a0b48-7lhl   Ready    <none>   17m   v1.16.15-gke.4901\n",
    "gke-cluster-1-default-pool-c30a0b48-zwg1   Ready    <none>   17m   v1.16.15-gke.4901\n"
   ]
  },
  {
   "cell_type": "markdown",
   "id": "d36c9124",
   "metadata": {},
   "source": [
    "Y como vemos, tenemos tres nodos. Ingresemos al nodo gke-cluster-1-default-pool-c30a0b48-1dhh usando el siguiente comando:"
   ]
  },
  {
   "cell_type": "code",
   "execution_count": null,
   "id": "f1fb423c",
   "metadata": {},
   "outputs": [],
   "source": [
    "\n",
    "$ gcloud compute ssh gke-cluster-1-default-pool-c30a0b48-1dhh\n"
   ]
  },
  {
   "cell_type": "markdown",
   "id": "ca19ccad",
   "metadata": {},
   "source": [
    "Ahora, como estamos dentro del nodo gke-cluster-1-default-pool-c30a0b48-1dhh, vamos a curl localhost:32618 usando el siguiente comando:"
   ]
  },
  {
   "cell_type": "code",
   "execution_count": null,
   "id": "4088d8fe",
   "metadata": {},
   "outputs": [],
   "source": [
    "\n",
    "$ curl localhost:32618\n",
    "Hi there! This page was last visited on 2020-12-30, 08:32:25.\n",
    "        "
   ]
  },
  {
   "cell_type": "markdown",
   "id": "b9c45108",
   "metadata": {},
   "source": [
    "¡Y recibimos una respuesta! Puede acceder a cualquier nodo y curvar el punto final y debería obtener una respuesta similar.\n",
    "\n",
    "Para salir del nodo y volver al indicador de Cloud Shell, ejecute el siguiente comando:"
   ]
  },
  {
   "cell_type": "code",
   "execution_count": null,
   "id": "66c167f4",
   "metadata": {},
   "outputs": [],
   "source": [
    "\n",
    "$ exit\n",
    "Connection to 35.202.82.74 closed.\n"
   ]
  },
  {
   "cell_type": "markdown",
   "id": "5540275b",
   "metadata": {},
   "source": [
    "Y estás de vuelta en el aviso de Cloud Shell.\n",
    "\n",
    "> **Tip Pro.** <br> Los servicios de NodePort son un tipo de recurso intermedio. Esto significa que, si bien constituye un componente esencial de la prestación de servicios externos, no se utiliza por sí solo la mayor parte del tiempo. Cuando se ejecuta en la nube, puede usar los recursos del servicio LoadBalancer en su lugar. Incluso para una configuración local, tiene sentido no usar NodePort para cada recurso de servicio y, en su lugar, usar recursos de ingreso.\n",
    "\n",
    "Ahora, echemos un vistazo al recurso del servicio LoadBalancer que se usa ampliamente para exponer sus cargas de trabajo de Kubernetes de forma externa."
   ]
  },
  {
   "cell_type": "markdown",
   "id": "d96be4fe",
   "metadata": {},
   "source": [
    "## Servicios de equilibrador de carga\n",
    "Los recursos del servicio LoadBalancer ayudan a exponer sus pods en un único punto final con equilibrio de carga. Estos recursos de Servicio solo se pueden usar dentro de plataformas en la nube y plataformas que brindan a los controladores de Kubernetes acceso para activar recursos de red externos. Un servicio LoadBalancer prácticamente activa un recurso del servicio NodePort y luego solicita a la API de la nube que active un equilibrador de carga frente a los puertos del nodo. De esa forma, proporciona un punto final único para acceder a su recurso de servicio desde el mundo exterior."
   ]
  },
  {
   "cell_type": "markdown",
   "id": "40f9c7f4",
   "metadata": {},
   "source": [
    "Activar un recurso del servicio LoadBalancer es simple: solo configure el tipo en LoadBalancer.\n",
    "\n",
    "Expongamos la aplicación Flask como un balanceador de carga usando el siguiente manifiesto: Flask-loadbalancer.yaml:"
   ]
  },
  {
   "cell_type": "code",
   "execution_count": null,
   "id": "5ca18470",
   "metadata": {},
   "outputs": [],
   "source": [
    "\n",
    "...\n",
    "spec:\n",
    "  ports:\n",
    "  - port: 5000\n",
    "    protocol: TCP\n",
    "    targetPort: 5000\n",
    "  selector:\n",
    "    run: flask-app\n",
    "  type: LoadBalancer\n",
    "    "
   ]
  },
  {
   "cell_type": "markdown",
   "id": "6f596904",
   "metadata": {},
   "source": [
    "Ahora, apliquemos el manifiesto usando el siguiente comando:"
   ]
  },
  {
   "cell_type": "code",
   "execution_count": null,
   "id": "8284a51b",
   "metadata": {},
   "outputs": [],
   "source": [
    "\n",
    "$ kubectl apply -f flask-loadbalancer.yaml\n"
   ]
  },
  {
   "cell_type": "markdown",
   "id": "7a94c355",
   "metadata": {},
   "source": [
    "Y hagamos que el recurso del Servicio note los cambios usando el siguiente comando:"
   ]
  },
  {
   "cell_type": "code",
   "execution_count": null,
   "id": "d1e429be",
   "metadata": {},
   "outputs": [],
   "source": [
    "\n",
    "$ kubectl get svc flask-app\n",
    "NAME        TYPE           CLUSTER-IP     EXTERNAL-IP   PORT(S)          AGE\n",
    "flask-app   LoadBalancer   10.3.240.246   34.71.95.96   5000:32618/TCP   17m\n",
    "    "
   ]
  },
  {
   "cell_type": "markdown",
   "id": "69faafc2",
   "metadata": {},
   "source": [
    "Y el tipo de recurso del servicio ahora es LoadBalancer. Como puede ver, ahora contiene una IP externa junto con la IP del clúster.\n",
    "\n",
    "A continuación, puede activar la IP externa en el puerto 5000 con el siguiente comando:"
   ]
  },
  {
   "cell_type": "code",
   "execution_count": null,
   "id": "82f6851c",
   "metadata": {},
   "outputs": [],
   "source": [
    "\n",
    "$ curl 34.71.95.96:5000\n",
    "Hi there! This page was last visited on 2020-12-30, 08:32:25.\n",
    "        "
   ]
  },
  {
   "cell_type": "markdown",
   "id": "8a7f6375",
   "metadata": {},
   "source": [
    "Y obtienes la misma respuesta que antes. Su recurso de servicio ahora se ejecuta externamente.\n",
    "\n",
    "> **Tip Pro.** <br> Los recursos del servicio LoadBalancer tienden a ser costosos, ya que cada nuevo recurso genera un balanceador de carga de red dentro de su nube. Si tiene cargas de trabajo basadas en HTTP, debe usar el recurso Ingress en lugar de LoadBalancer para ahorrar en costos de recursos y optimizar el tráfico.\n",
    "\n",
    "Si bien los servicios de Kubernetes forman el bloque de construcción básico para exponer sus aplicaciones de contenedores interna y externamente, Kubernetes también proporciona recursos de Ingress para un control detallado adicional sobre el tráfico. Echemos un vistazo a esto en la siguiente sección."
   ]
  },
  {
   "cell_type": "markdown",
   "id": "d2a35200",
   "metadata": {},
   "source": [
    "## Recursos de ingreso\n",
    "Los recursos de ingreso actúan como proxies inversos en Kubernetes. No necesita un balanceador de carga para cada aplicación que ejecuta dentro de su patrimonio. Los balanceadores de carga normalmente solo reenvían el tráfico y no requieren una gran potencia informática. Por lo tanto, no tiene sentido activar un balanceador de carga para todo.\n",
    "\n",
    "Por lo tanto, Kubernetes proporciona una forma de enrutar el tráfico externo a su clúster a través de los recursos de Ingress. Estos recursos lo ayudan a subdividir el tráfico según múltiples condiciones. Algunos de estos son los siguientes:\n",
    "\n",
    "- Basado en la ruta de URL\n",
    "- Basado en el nombre de host\n",
    "- Una combinación de los dos\n",
    "\n",
    "El siguiente diagrama ilustra cómo funcionan los recursos de Ingress:"
   ]
  },
  {
   "cell_type": "code",
   "execution_count": null,
   "id": "f8f1f95a",
   "metadata": {},
   "outputs": [],
   "source": []
  },
  {
   "cell_type": "code",
   "execution_count": null,
   "id": "b6cda5fd",
   "metadata": {},
   "outputs": [],
   "source": []
  },
  {
   "cell_type": "code",
   "execution_count": null,
   "id": "401bfad2",
   "metadata": {},
   "outputs": [],
   "source": []
  },
  {
   "cell_type": "code",
   "execution_count": null,
   "id": "79bb511f",
   "metadata": {},
   "outputs": [],
   "source": []
  },
  {
   "cell_type": "code",
   "execution_count": null,
   "id": "eb1ddf01",
   "metadata": {},
   "outputs": [],
   "source": []
  },
  {
   "cell_type": "code",
   "execution_count": null,
   "id": "ec199a24",
   "metadata": {},
   "outputs": [],
   "source": []
  },
  {
   "cell_type": "code",
   "execution_count": null,
   "id": "4b75c8db",
   "metadata": {},
   "outputs": [],
   "source": []
  },
  {
   "cell_type": "code",
   "execution_count": null,
   "id": "1fdb3f90",
   "metadata": {},
   "outputs": [],
   "source": []
  },
  {
   "cell_type": "code",
   "execution_count": null,
   "id": "ecab41c7",
   "metadata": {},
   "outputs": [],
   "source": []
  },
  {
   "cell_type": "markdown",
   "id": "01b6577f",
   "metadata": {},
   "source": [
    "## Descripción de los comandos del contenedor de Docker\n",
    "Antes de sumergirnos en elComandos Docker más complejos, repasemos y entremos un poco más en detalle en los comandos que hemos usado en capítulos anteriores.\n",
    "\n"
   ]
  },
  {
   "cell_type": "code",
   "execution_count": null,
   "id": "342761ab",
   "metadata": {},
   "outputs": [],
   "source": [
    "\n",
    "$ docker container run hello-world\n"
   ]
  },
  {
   "cell_type": "markdown",
   "id": "2dcebabb",
   "metadata": {},
   "source": [
    "Como recordará, este comando extrae una 1.84imagen KB de Docker Hub. Puede encontrar la página de Docker Hub para la imagen en https://hub.docker.com/images/hello-world/ y, según lo siguiente Dockerfile, ejecuta un ejecutable llamadohello:"
   ]
  },
  {
   "cell_type": "code",
   "execution_count": null,
   "id": "eb533a78",
   "metadata": {},
   "outputs": [],
   "source": [
    "\n",
    "FROM scratch\n",
    "COPY hello /\n",
    "CMD [\"/hello\"]\n"
   ]
  },
  {
   "cell_type": "markdown",
   "id": "f26d7a9d",
   "metadata": {},
   "source": [
    "El ejecutable hello imprime el texto Hello from Docker! en la Terminal y luego el proceso finaliza. \n",
    "\n",
    "Como puede ver en el texto completo del mensaje en la siguiente salida de Terminal, el binario hello también le permite saber exactamente qué pasos acaban de ocurrir:"
   ]
  },
  {
   "cell_type": "markdown",
   "id": "3ccacd53",
   "metadata": {},
   "source": [
    "A medida que finaliza el proceso, nuestroEl contenedor también se detiene. Esto se puede ver ejecutando el siguiente comando:\n",
    "\n"
   ]
  },
  {
   "cell_type": "code",
   "execution_count": null,
   "id": "a3a49b8a",
   "metadata": {},
   "outputs": [],
   "source": [
    "\n",
    "$ docker container ls -a\n"
   ]
  },
  {
   "cell_type": "markdown",
   "id": "df5f3187",
   "metadata": {},
   "source": [
    "Puede notar en la salida de la Terminal que primero ejecuté docker container lscon y sin la -abandera. Esta es una abreviatura de --all, ya que ejecutarlo sin la bandera no muestra ningún contenedor cerrado.\n",
    "\n",
    "Es posible que haya notado que no tuvimos que nombrar nuestro contenedor. Esto se debe a que no iba a existir el tiempo suficiente para que nos importara cómo se llamaba. Sin embargo, Docker asigna automáticamente nombres a los contenedores y, en mi caso, puede ver que se llamó awesome_jackson.\n",
    "\n",
    "Notará a lo largo de su uso de Docker que presenta algunos nombres realmente interesantes para sus contenedores si decide dejar que los genere por usted. Creó el nombrede una lista de palabras para la palabra de la izquierda, y para la palabra de la derecha, de los nombres de científicos y piratas informáticos notables. Aunque esto está un poco fuera de tema, el código para generar los nombres se puede encontrar en names-generator.go. Justo al final del código fuente, tiene la siguiente ifdeclaración:"
   ]
  },
  {
   "cell_type": "code",
   "execution_count": null,
   "id": "fad8a279",
   "metadata": {},
   "outputs": [],
   "source": [
    "\n",
    "if name == \"boring_wozniak\" /* Steve Wozniak is not boring */ { goto begin }\n"
   ]
  },
  {
   "cell_type": "markdown",
   "id": "a3623f95",
   "metadata": {},
   "source": [
    "Esto significa que nunca habrá un contenedor llamado bored_wozniak (y con mucha razón también).\n",
    "\n",
    "### Información:\n",
    "\n",
    "Steve Wozniak es un inventor, ingeniero electrónico, programador y empresario que cofundó Apple Inc. con Steve Jobs. Es conocido como un pionero de la revolución de las computadoras personales de los años 70 y 80, ¡y definitivamente no es aburrido!\n",
    "\n",
    "Podemos eliminar el contenedor con un estado de exitedejecutando el siguiente comando, asegurándonos de reemplazar el nombre del contenedor con su propio nombre de contenedor:"
   ]
  },
  {
   "cell_type": "code",
   "execution_count": null,
   "id": "0943491b",
   "metadata": {},
   "outputs": [],
   "source": [
    "\n",
    "$ docker container rm awesome_jackson\n"
   ]
  },
  {
   "cell_type": "markdown",
   "id": "f33c0cc3",
   "metadata": {},
   "source": [
    "Antes, lanzamos un contenedor usando la imagen oficial de NGINX usando el siguiente comando:\n",
    "\n"
   ]
  },
  {
   "cell_type": "code",
   "execution_count": null,
   "id": "078c03ae",
   "metadata": {},
   "outputs": [],
   "source": [
    "\n",
    "$ docker container run -d --name nginx-test -p 8080:80 nginx\n",
    "\n",
    "\n",
    "    "
   ]
  },
  {
   "cell_type": "markdown",
   "id": "f2d2b54a",
   "metadata": {},
   "source": [
    "Como recordará, esto descarga la imagen y la ejecuta, mapeando el puerto 8080en nuestra máquina hostpara portar 80en el contenedor, y lo llama nginx-test:"
   ]
  },
  {
   "cell_type": "markdown",
   "id": "9dc96b91",
   "metadata": {},
   "source": [
    "Como puede ver, ejecutar la imagen de Docker lsnos muestra que ahora tenemos dos imágenes descargadas y también en ejecución. El siguiente comando nos muestra que tenemos un contenedor en ejecución:\n",
    "\n"
   ]
  },
  {
   "cell_type": "code",
   "execution_count": null,
   "id": "f57ff24e",
   "metadata": {},
   "outputs": [],
   "source": [
    "\n",
    "$ docker container ls\n"
   ]
  },
  {
   "cell_type": "markdown",
   "id": "b79b3aeb",
   "metadata": {},
   "source": [
    "El siguiente resultado de la Terminal muestra que el mío había estado activo durante 5 minutos cuando ejecuté el comando:"
   ]
  },
  {
   "cell_type": "markdown",
   "id": "00f6dfb2",
   "metadata": {},
   "source": [
    "Como puede ver en nuestro docker container runcomando, introdujimos tres banderas. Uno de ellos fue -d, que es la abreviatura de --detach. Si no hubiéramos agregado este indicador, nuestro contenedor se habría ejecutado en primer plano, lo que significa que nuestra Terminal se habría congelado hasta que le pasáramos al proceso un comando de escape presionando Ctrl + C.\n",
    "\n",
    "Podemos ver esto en acción ejecutando el siguiente comando para lanzar un segundo contenedor NGINX para ejecutar junto con el contenedor que ya lanzamos:\n",
    "\n"
   ]
  },
  {
   "cell_type": "code",
   "execution_count": null,
   "id": "6139a1fc",
   "metadata": {},
   "outputs": [],
   "source": [
    "\n",
    "$ docker container run --name nginx-foreground -p 9090:80 nginx\n",
    "    "
   ]
  },
  {
   "cell_type": "markdown",
   "id": "fede5959",
   "metadata": {},
   "source": [
    "Una vez iniciado, abra unnavegador e ingrese http://localhost:9090/. A medida que carga la página, notará que su visita a la página se imprime en la pantalla. Al presionar Actualizar en su navegador, se mostrarán más resultados, hasta que presione Ctrl + C nuevamente en la Terminal:\n",
    "\n"
   ]
  },
  {
   "cell_type": "markdown",
   "id": "89865455",
   "metadata": {},
   "source": [
    "La ejecución docker container ls -amuestra que tiene dos contenedores, uno de los cuales ha salido:"
   ]
  },
  {
   "cell_type": "markdown",
   "id": "91a02f27",
   "metadata": {},
   "source": [
    "¿Entonces qué pasó? Cuando eliminamos la detachbandera, Docker nos conectó al proceso NGINX directamente dentro del contenedor, lo que significa que teníamos visibilidad de stdin , stdout y stderr para ese proceso. Cuando usamos Ctrl + C , en realidad enviamos una instrucción al proceso NGINX para terminarlo. Como ese era el proceso que mantenía a nuestrocontenedor en ejecución, el contenedor salió inmediatamente una vez que ya no había un proceso en ejecución.\n",
    "\n",
    "### Nota IMPORTANTE\n",
    "\n",
    "La entrada estándar ( stdin ) es el identificador que lee nuestro proceso para obtener información del usuario final. La salida estándar ( stdout ) es donde el proceso escribe información normal. El error estándar ( stderr ) es donde el proceso escribe mensajes de error.\n",
    "\n",
    "Otrocosate habrás dado cuenta cuandolanzamos el nginx-foregroundcontenedor es que le dimos un nombre diferente usando la --namebandera.\n",
    "\n",
    "Esto se debe a que no puede tener dos contenedores con el mismo nombre, ya que Docker le brinda la opción de interactuar con sus contenedores usando ambos CONTAINER ID or NAMEvalores. Esta es la razón por la que existe la función de generador de nombres: para asignar un nombre aleatorio a los contenedores que no desea nombrar usted mismo, y también para asegurarse de que nunca llamemos aburrido a Steve Wozniak.\n",
    "\n",
    "Lo último a mencionar es que cuando lanzamos nginx-foreground, le pedimos a Docker que mapeara puerto 9090a puerto 80en el contenedor. Esto se debió a que no podemos asignar más de un proceso a un puerto en una máquina host, por lo que si intentamos iniciar nuestro segundo contenedor con el mismo puerto que el primero, habríamos recibido un mensaje de error:\n",
    "\n"
   ]
  },
  {
   "cell_type": "markdown",
   "id": "d94b9fb3",
   "metadata": {},
   "source": [
    "\n",
    "docker: Error response from daemon: driver failed programming external connectivity on endpoint nginx-foreground (3f5b355607f24e03f09a60ee688645f223bafe4492f807459e4a 2b83571f23f4): Bind for 0.0.0.0:8080 failed: port is already allocated.\n",
    "                    "
   ]
  },
  {
   "cell_type": "markdown",
   "id": "549ae36b",
   "metadata": {},
   "source": [
    "Además, dado que estamos ejecutando el contenedor en primer plano, es posible que reciba un error del proceso NGINX, ya que no pudo iniciarse:\n",
    "\n"
   ]
  },
  {
   "cell_type": "code",
   "execution_count": null,
   "id": "bf22b5c5",
   "metadata": {},
   "outputs": [],
   "source": [
    "\n",
    "ERRO[0003] error getting events from daemon: net/http: request cancelled\n",
    "        "
   ]
  },
  {
   "cell_type": "markdown",
   "id": "ba00c88c",
   "metadata": {},
   "source": [
    "Sin embargo, también puede notar que estamos mapeando el puerto 80en el contenedor, ¿por qué no hay error allí?\n",
    "\n",
    "Los contenedores en sí mismos son recursos aislados, lo que significa que podemos lanzar tantos contenedores como queramos con el puerto 80reasignado, ynunca chocarán con otros contenedores; solo tenemos problemas cuando queremos enrutarnos al puerto del contenedor expuesto desde nuestro host Docker.\n",
    "\n",
    "Mantengamos nuestro contenedor NGINX en ejecución para la siguiente sección, donde exploraremos más formas de interactuar con el contenedor."
   ]
  },
  {
   "cell_type": "markdown",
   "id": "e44197e2",
   "metadata": {},
   "source": [
    "## Interactuando con sus contenedores\n",
    "Hasta ahora, nuestros contenedoreshan estado ejecutando un solo proceso. Docker le proporciona algunas herramientas que le permiten bifurcar procesos adicionales e interactuar con ellos, y cubriremos esas herramientas en las siguientes secciones:\n",
    "\n"
   ]
  },
  {
   "cell_type": "code",
   "execution_count": null,
   "id": "78855341",
   "metadata": {},
   "outputs": [],
   "source": []
  },
  {
   "cell_type": "code",
   "execution_count": null,
   "id": "8487a415",
   "metadata": {},
   "outputs": [],
   "source": []
  },
  {
   "cell_type": "code",
   "execution_count": null,
   "id": "20855689",
   "metadata": {},
   "outputs": [],
   "source": []
  },
  {
   "cell_type": "code",
   "execution_count": null,
   "id": "e0143ebb",
   "metadata": {},
   "outputs": [],
   "source": []
  },
  {
   "cell_type": "code",
   "execution_count": null,
   "id": "feb35119",
   "metadata": {},
   "outputs": [],
   "source": []
  },
  {
   "cell_type": "code",
   "execution_count": null,
   "id": "ca6e887b",
   "metadata": {},
   "outputs": [],
   "source": []
  },
  {
   "cell_type": "code",
   "execution_count": null,
   "id": "c2d31402",
   "metadata": {},
   "outputs": [],
   "source": []
  },
  {
   "cell_type": "code",
   "execution_count": null,
   "id": "4edc07fa",
   "metadata": {},
   "outputs": [],
   "source": []
  },
  {
   "cell_type": "code",
   "execution_count": null,
   "id": "d46dcbec",
   "metadata": {},
   "outputs": [],
   "source": []
  }
 ],
 "metadata": {
  "kernelspec": {
   "display_name": "Python 3 (ipykernel)",
   "language": "python",
   "name": "python3"
  },
  "language_info": {
   "codemirror_mode": {
    "name": "ipython",
    "version": 3
   },
   "file_extension": ".py",
   "mimetype": "text/x-python",
   "name": "python",
   "nbconvert_exporter": "python",
   "pygments_lexer": "ipython3",
   "version": "3.9.13"
  }
 },
 "nbformat": 4,
 "nbformat_minor": 5
}
